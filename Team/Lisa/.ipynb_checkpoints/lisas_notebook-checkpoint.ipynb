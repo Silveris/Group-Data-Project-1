{
 "cells": [
  {
   "cell_type": "markdown",
   "metadata": {},
   "source": [
    "My portion of the project requires looking at the relationship between sentiment and ratings."
   ]
  },
  {
   "cell_type": "code",
   "execution_count": 1,
   "metadata": {},
   "outputs": [],
   "source": [
    "import pandas as pd\n",
    "import os\n",
    "import matplotlib.pyplot as plt\n",
    "import numpy as np\n",
    "import scipy as sci\n",
    "import seaborn as sns\n"
   ]
  },
  {
   "cell_type": "code",
   "execution_count": 2,
   "metadata": {},
   "outputs": [
    {
     "data": {
      "text/plain": [
       "'../../Data/Combined/comb.csv'"
      ]
     },
     "execution_count": 2,
     "metadata": {},
     "output_type": "execute_result"
    }
   ],
   "source": [
    "path_gps_csv = os.path.join('..','..','Data','Raw','googleplaystore.csv')\n",
    "path_gps_usr_rev_csv = os.path.join('..','..','Data','Raw','googleplaystore_user_reviews.csv')\n",
    "path_comb_csv = os.path.join('..','..','Data','Combined','comb.csv')\n",
    "path_comb_csv"
   ]
  },
  {
   "cell_type": "code",
   "execution_count": 3,
   "metadata": {},
   "outputs": [],
   "source": [
    "# import data\n",
    "gps_df = pd.read_csv(path_gps_csv, low_memory=False)\n",
    "gps_usr_rev_df = pd.read_csv(path_gps_usr_rev_csv, low_memory=False)\n",
    "comb_df = pd.read_csv(path_comb_csv, low_memory=False)"
   ]
  },
  {
   "cell_type": "code",
   "execution_count": 4,
   "metadata": {},
   "outputs": [
    {
     "data": {
      "text/html": [
       "<div>\n",
       "<style scoped>\n",
       "    .dataframe tbody tr th:only-of-type {\n",
       "        vertical-align: middle;\n",
       "    }\n",
       "\n",
       "    .dataframe tbody tr th {\n",
       "        vertical-align: top;\n",
       "    }\n",
       "\n",
       "    .dataframe thead th {\n",
       "        text-align: right;\n",
       "    }\n",
       "</style>\n",
       "<table border=\"1\" class=\"dataframe\">\n",
       "  <thead>\n",
       "    <tr style=\"text-align: right;\">\n",
       "      <th></th>\n",
       "      <th>App</th>\n",
       "      <th>Category</th>\n",
       "      <th>Rating</th>\n",
       "      <th>Reviews</th>\n",
       "      <th>Size</th>\n",
       "      <th>Installs</th>\n",
       "      <th>Type</th>\n",
       "      <th>Price</th>\n",
       "      <th>Content Rating</th>\n",
       "      <th>Genres</th>\n",
       "      <th>Last Updated</th>\n",
       "      <th>Current Ver</th>\n",
       "      <th>Android Ver</th>\n",
       "    </tr>\n",
       "  </thead>\n",
       "  <tbody>\n",
       "    <tr>\n",
       "      <th>0</th>\n",
       "      <td>Photo Editor &amp; Candy Camera &amp; Grid &amp; ScrapBook</td>\n",
       "      <td>ART_AND_DESIGN</td>\n",
       "      <td>4.1</td>\n",
       "      <td>159</td>\n",
       "      <td>19M</td>\n",
       "      <td>10,000+</td>\n",
       "      <td>Free</td>\n",
       "      <td>0</td>\n",
       "      <td>Everyone</td>\n",
       "      <td>Art &amp; Design</td>\n",
       "      <td>January 7, 2018</td>\n",
       "      <td>1.0.0</td>\n",
       "      <td>4.0.3 and up</td>\n",
       "    </tr>\n",
       "    <tr>\n",
       "      <th>1</th>\n",
       "      <td>Coloring book moana</td>\n",
       "      <td>ART_AND_DESIGN</td>\n",
       "      <td>3.9</td>\n",
       "      <td>967</td>\n",
       "      <td>14M</td>\n",
       "      <td>500,000+</td>\n",
       "      <td>Free</td>\n",
       "      <td>0</td>\n",
       "      <td>Everyone</td>\n",
       "      <td>Art &amp; Design;Pretend Play</td>\n",
       "      <td>January 15, 2018</td>\n",
       "      <td>2.0.0</td>\n",
       "      <td>4.0.3 and up</td>\n",
       "    </tr>\n",
       "    <tr>\n",
       "      <th>2</th>\n",
       "      <td>U Launcher Lite – FREE Live Cool Themes, Hide ...</td>\n",
       "      <td>ART_AND_DESIGN</td>\n",
       "      <td>4.7</td>\n",
       "      <td>87510</td>\n",
       "      <td>8.7M</td>\n",
       "      <td>5,000,000+</td>\n",
       "      <td>Free</td>\n",
       "      <td>0</td>\n",
       "      <td>Everyone</td>\n",
       "      <td>Art &amp; Design</td>\n",
       "      <td>August 1, 2018</td>\n",
       "      <td>1.2.4</td>\n",
       "      <td>4.0.3 and up</td>\n",
       "    </tr>\n",
       "    <tr>\n",
       "      <th>3</th>\n",
       "      <td>Sketch - Draw &amp; Paint</td>\n",
       "      <td>ART_AND_DESIGN</td>\n",
       "      <td>4.5</td>\n",
       "      <td>215644</td>\n",
       "      <td>25M</td>\n",
       "      <td>50,000,000+</td>\n",
       "      <td>Free</td>\n",
       "      <td>0</td>\n",
       "      <td>Teen</td>\n",
       "      <td>Art &amp; Design</td>\n",
       "      <td>June 8, 2018</td>\n",
       "      <td>Varies with device</td>\n",
       "      <td>4.2 and up</td>\n",
       "    </tr>\n",
       "    <tr>\n",
       "      <th>4</th>\n",
       "      <td>Pixel Draw - Number Art Coloring Book</td>\n",
       "      <td>ART_AND_DESIGN</td>\n",
       "      <td>4.3</td>\n",
       "      <td>967</td>\n",
       "      <td>2.8M</td>\n",
       "      <td>100,000+</td>\n",
       "      <td>Free</td>\n",
       "      <td>0</td>\n",
       "      <td>Everyone</td>\n",
       "      <td>Art &amp; Design;Creativity</td>\n",
       "      <td>June 20, 2018</td>\n",
       "      <td>1.1</td>\n",
       "      <td>4.4 and up</td>\n",
       "    </tr>\n",
       "  </tbody>\n",
       "</table>\n",
       "</div>"
      ],
      "text/plain": [
       "                                                 App        Category  Rating  \\\n",
       "0     Photo Editor & Candy Camera & Grid & ScrapBook  ART_AND_DESIGN     4.1   \n",
       "1                                Coloring book moana  ART_AND_DESIGN     3.9   \n",
       "2  U Launcher Lite – FREE Live Cool Themes, Hide ...  ART_AND_DESIGN     4.7   \n",
       "3                              Sketch - Draw & Paint  ART_AND_DESIGN     4.5   \n",
       "4              Pixel Draw - Number Art Coloring Book  ART_AND_DESIGN     4.3   \n",
       "\n",
       "  Reviews  Size     Installs  Type Price Content Rating  \\\n",
       "0     159   19M      10,000+  Free     0       Everyone   \n",
       "1     967   14M     500,000+  Free     0       Everyone   \n",
       "2   87510  8.7M   5,000,000+  Free     0       Everyone   \n",
       "3  215644   25M  50,000,000+  Free     0           Teen   \n",
       "4     967  2.8M     100,000+  Free     0       Everyone   \n",
       "\n",
       "                      Genres      Last Updated         Current Ver  \\\n",
       "0               Art & Design   January 7, 2018               1.0.0   \n",
       "1  Art & Design;Pretend Play  January 15, 2018               2.0.0   \n",
       "2               Art & Design    August 1, 2018               1.2.4   \n",
       "3               Art & Design      June 8, 2018  Varies with device   \n",
       "4    Art & Design;Creativity     June 20, 2018                 1.1   \n",
       "\n",
       "    Android Ver  \n",
       "0  4.0.3 and up  \n",
       "1  4.0.3 and up  \n",
       "2  4.0.3 and up  \n",
       "3    4.2 and up  \n",
       "4    4.4 and up  "
      ]
     },
     "execution_count": 4,
     "metadata": {},
     "output_type": "execute_result"
    }
   ],
   "source": [
    "gps_df.head()"
   ]
  },
  {
   "cell_type": "code",
   "execution_count": 5,
   "metadata": {},
   "outputs": [
    {
     "name": "stdout",
     "output_type": "stream",
     "text": [
      "Total number of observations:  122662\n",
      "Counts of null values:  \n",
      " App                           0\n",
      "Category                      0\n",
      "Rating                       40\n",
      "Reviews                       0\n",
      "Size                          0\n",
      "Installs                      0\n",
      "Type                          0\n",
      "Price                         0\n",
      "Content Rating                0\n",
      "Genres                        0\n",
      "Last Updated                  0\n",
      "Current Ver                   0\n",
      "Android Ver                   0\n",
      "Translated_Review         50057\n",
      "Sentiment                 50047\n",
      "Sentiment_Polarity        50047\n",
      "Sentiment_Subjectivity    50047\n",
      "dtype: int64\n"
     ]
    }
   ],
   "source": [
    "#identifying null values\n",
    "count_of_null_value=comb_df.isnull().sum()\n",
    "count_of_null_value.to_csv('output/nullvaluecounts_sentiment.csv')\n",
    "\n",
    "print('Total number of observations: ', len(comb_df))\n",
    "print('Counts of null values: ', '\\n', count_of_null_value)"
   ]
  },
  {
   "cell_type": "code",
   "execution_count": 6,
   "metadata": {},
   "outputs": [
    {
     "data": {
      "text/html": [
       "<div>\n",
       "<style scoped>\n",
       "    .dataframe tbody tr th:only-of-type {\n",
       "        vertical-align: middle;\n",
       "    }\n",
       "\n",
       "    .dataframe tbody tr th {\n",
       "        vertical-align: top;\n",
       "    }\n",
       "\n",
       "    .dataframe thead th {\n",
       "        text-align: right;\n",
       "    }\n",
       "</style>\n",
       "<table border=\"1\" class=\"dataframe\">\n",
       "  <thead>\n",
       "    <tr style=\"text-align: right;\">\n",
       "      <th></th>\n",
       "      <th>Category</th>\n",
       "      <th>Rating</th>\n",
       "      <th>Sentiment</th>\n",
       "      <th>Sentiment_Polarity</th>\n",
       "      <th>Content Rating</th>\n",
       "    </tr>\n",
       "  </thead>\n",
       "  <tbody>\n",
       "    <tr>\n",
       "      <th>0</th>\n",
       "      <td>ART_AND_DESIGN</td>\n",
       "      <td>3.9</td>\n",
       "      <td>Negative</td>\n",
       "      <td>-0.250</td>\n",
       "      <td>Everyone</td>\n",
       "    </tr>\n",
       "    <tr>\n",
       "      <th>1</th>\n",
       "      <td>ART_AND_DESIGN</td>\n",
       "      <td>3.9</td>\n",
       "      <td>Negative</td>\n",
       "      <td>-0.725</td>\n",
       "      <td>Everyone</td>\n",
       "    </tr>\n",
       "    <tr>\n",
       "      <th>2</th>\n",
       "      <td>ART_AND_DESIGN</td>\n",
       "      <td>3.9</td>\n",
       "      <td>Neutral</td>\n",
       "      <td>0.000</td>\n",
       "      <td>Everyone</td>\n",
       "    </tr>\n",
       "    <tr>\n",
       "      <th>4</th>\n",
       "      <td>ART_AND_DESIGN</td>\n",
       "      <td>3.9</td>\n",
       "      <td>Positive</td>\n",
       "      <td>0.500</td>\n",
       "      <td>Everyone</td>\n",
       "    </tr>\n",
       "    <tr>\n",
       "      <th>5</th>\n",
       "      <td>ART_AND_DESIGN</td>\n",
       "      <td>3.9</td>\n",
       "      <td>Negative</td>\n",
       "      <td>-0.800</td>\n",
       "      <td>Everyone</td>\n",
       "    </tr>\n",
       "  </tbody>\n",
       "</table>\n",
       "</div>"
      ],
      "text/plain": [
       "         Category  Rating Sentiment  Sentiment_Polarity Content Rating\n",
       "0  ART_AND_DESIGN     3.9  Negative              -0.250       Everyone\n",
       "1  ART_AND_DESIGN     3.9  Negative              -0.725       Everyone\n",
       "2  ART_AND_DESIGN     3.9   Neutral               0.000       Everyone\n",
       "4  ART_AND_DESIGN     3.9  Positive               0.500       Everyone\n",
       "5  ART_AND_DESIGN     3.9  Negative              -0.800       Everyone"
      ]
     },
     "execution_count": 6,
     "metadata": {},
     "output_type": "execute_result"
    }
   ],
   "source": [
    "#clean the data that is there to remove rows of NA\n",
    "\n",
    "reduced_comb_df = comb_df.loc[:, ['Category','Rating', 'Sentiment', 'Sentiment_Polarity', 'Content Rating']]\n",
    "\n",
    "reduced_comb_df = reduced_comb_df.dropna()\n",
    "reduced_comb_df.head()\n"
   ]
  },
  {
   "cell_type": "code",
   "execution_count": 7,
   "metadata": {},
   "outputs": [
    {
     "name": "stdout",
     "output_type": "stream",
     "text": [
      "Total number of observations:  72576\n",
      "Counts of null values:  \n",
      " Category              0\n",
      "Rating                0\n",
      "Sentiment             0\n",
      "Sentiment_Polarity    0\n",
      "Content Rating        0\n",
      "dtype: int64\n"
     ]
    }
   ],
   "source": [
    "#identifying null values\n",
    "count_of_null_value=reduced_comb_df.isnull().sum()\n",
    "count_of_null_value.to_csv('output/nullvaluecounts_sentiment_cleaned.csv')\n",
    "\n",
    "print('Total number of observations: ', len(reduced_comb_df))\n",
    "print('Counts of null values: ', '\\n', count_of_null_value)"
   ]
  },
  {
   "cell_type": "code",
   "execution_count": 13,
   "metadata": {},
   "outputs": [
    {
     "data": {
      "image/png": "[encoded data removed]",
      "text/plain": [
       "<Figure size 432x288 with 2 Axes>"
      ]
     },
     "metadata": {
      "needs_background": "light"
     },
     "output_type": "display_data"
    }
   ],
   "source": [
    "plt.close()\n",
    "\n",
    "plt.scatter(reduced_comb_df['Sentiment'],reduced_comb_df['Rating'],c=reduced_comb_df['Sentiment_Polarity'])\n",
    "clb = plt.colorbar()\n",
    "plt.xlabel(\"Sentiment\")\n",
    "plt.ylabel(\"Ratings\")\n",
    "clb.set_label(\"Sentiment_Polarity\")\n",
    "plt.savefig('output/scatterplot.png')\n",
    "plt.show()\n",
    "\n",
    "# reduced_comb_df.plot(kind='scatter',x='Sentiment',y='Rating',color='red')\n",
    "# plt.show()\n",
    "\n",
    "\n",
    "# reduced_comb_df.plot(kind='bar',x='Sentiment',y='Rating')\n",
    "# plt.savefig('output/bargraph.png')\n",
    "# plt.show()\n",
    "\n",
    "\n",
    "# ax = reduced_comb_df.plot.bar(rot=0)\n"
   ]
  },
  {
   "cell_type": "markdown",
   "metadata": {},
   "source": [
    "Because of the lack of information in the sentiment category, I have re-evaluatied my question.  However, I still find there is interesting information to denote as it relates to the initial question of Sentiment compared to Ratings.  The data indicates that there is some correlation between Sentiment Polarity and the overall Sentiment.  What I find most interesting is that that the three categories of sentiment were spread across all level of ratings."
   ]
  },
  {
   "cell_type": "markdown",
   "metadata": {},
   "source": [
    "New Question:  What is the relationship between operating system and App Downloads?"
   ]
  },
  {
   "cell_type": "code",
   "execution_count": 17,
   "metadata": {},
   "outputs": [
    {
     "data": {
      "text/plain": [
       "Varies with device    34630\n",
       "4.1 and up            26863\n",
       "4.0.3 and up          14722\n",
       "4.4 and up            11920\n",
       "5.0 and up            11180\n",
       "4.0 and up             9163\n",
       "2.3 and up             4783\n",
       "4.2 and up             3398\n",
       "2.3.3 and up           1520\n",
       "4.3 and up             1240\n",
       "3.0 and up              920\n",
       "6.0 and up              840\n",
       "2.2 and up              432\n",
       "2.1 and up              320\n",
       "4.4W and up             160\n",
       "1.6 and up              111\n",
       "5.1 and up               80\n",
       "7.0 and up               73\n",
       "8.0 and up               67\n",
       "7.1 and up               40\n",
       "2.0 and up               40\n",
       "1.5 and up               40\n",
       "3.2 and up               40\n",
       "4.0.3 - 7.1.1            40\n",
       "5.0 - 8.0                40\n",
       "Name: Android Ver, dtype: int64"
      ]
     },
     "execution_count": 17,
     "metadata": {},
     "output_type": "execute_result"
    }
   ],
   "source": [
    "\n",
    "android_version_df=comb_df['Android Ver'].value_counts()\n",
    "# android_version_df.set_index('Android Ver')\n",
    "# android_version_df.sort_index()\n",
    "android_version_df.to_csv('output/DownloadsbyVersion.csv')\n",
    "android_version_df\n",
    "\n",
    "\n",
    "# CODE THAT DOESN'T WORK in order to change the sort of the list\n",
    "# sorted_android_version_df = android_version_df.sort_values(android_version_df.columns[0])\n",
    "# # android_version_sorted_df = android_version_df.sort_values('Count')\n",
    "# # android_version_sorted_df = android_version_df.sort_values('Android Ver')\n",
    "# # android_version_sorted_df = android_version_df.sort_values(android_version_df.columns[0], ascending = False)\n",
    "# # android_version_sorted_df\n",
    "# sorted_android_version_df\n",
    "\n",
    "# android_version_df.hist(column ='Android_ver', by='value_counts', bins=50)"
   ]
  },
  {
   "cell_type": "code",
   "execution_count": 14,
   "metadata": {},
   "outputs": [
    {
     "data": {
      "image/png": "[encoded data removed]",
      "text/plain": [
       "<Figure size 1080x720 with 1 Axes>"
      ]
     },
     "metadata": {
      "needs_background": "light"
     },
     "output_type": "display_data"
    }
   ],
   "source": [
    "ax = android_version_df.plot(kind='bar', title =\"Android Version Popularity\", figsize=(15, 10), legend=True, fontsize=12)\n",
    "ax.set_xlabel(\"Android Version\", fontsize=12)\n",
    "ax.set_ylabel(\"Apps Downloaded\", fontsize=12)\n",
    "\n",
    "plt.savefig('output/AndroidVersionPopularityBarChart.png')\n"
   ]
  },
  {
   "cell_type": "markdown",
   "metadata": {},
   "source": [
    "One of the notable details is that, while one might assume that the most current version of Android would be the most popular, it is actually a version of Android that is at least three major versions older."
   ]
  },
  {
   "cell_type": "code",
   "execution_count": null,
   "metadata": {},
   "outputs": [],
   "source": []
  }
 ],
 "metadata": {
  "kernelspec": {
   "display_name": "Python 3",
   "language": "python",
   "name": "python3"
  },
  "language_info": {
   "codemirror_mode": {
    "name": "ipython",
    "version": 3
   },
   "file_extension": ".py",
   "mimetype": "text/x-python",
   "name": "python",
   "nbconvert_exporter": "python",
   "pygments_lexer": "ipython3",
   "version": "3.7.6"
  }
 },
 "nbformat": 4,
 "nbformat_minor": 4
}
